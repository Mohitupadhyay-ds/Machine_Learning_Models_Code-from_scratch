{
 "cells": [
  {
   "cell_type": "code",
   "execution_count": null,
   "id": "f965c01d-f054-4e85-a6ab-011b83ace918",
   "metadata": {},
   "outputs": [],
   "source": [
    "import numpy as np"
   ]
  },
  {
   "cell_type": "code",
   "execution_count": null,
   "id": "30ae3cb8-084c-40bf-bf76-a5fc54ae5687",
   "metadata": {},
   "outputs": [],
   "source": [
    "class Logistic_Regression():\n",
    "    \n",
    "    # initiating the parameters (learning rate & no. of iterations)\n",
    "    def __init__(self, learning_rate, no_of_iterations):\n",
    "        \n",
    "        self.learning_rate = learning_rate\n",
    "        self.no_of_iterations = no_of_iterations\n",
    "    \n",
    "    def fit(self, X, Y):\n",
    "        \n",
    "        #no. of training examples and no. of features\n",
    "        self.m, self.n = X.shape \n",
    "\n",
    "        #initiating the weight and bias\n",
    "        self.w = np.zeros(self.n) \n",
    "        self.b = 0 \n",
    "        self.X = X\n",
    "        Self.Y = Y\n",
    "        \n",
    "        #Implementing Gradient Descent\n",
    "        for i in range(self.no_of_iterations):\n",
    "            self.update_weights()\n",
    "\n",
    "    def update_weights(self):\n",
    "        \n",
    "        Y_hat = 1 / (1+np.exp(- (self.X.dot(self.w) + self.b)))\n",
    "        \n",
    "        #calculate gradients               \n",
    "        dw = (1/self.m) * np.dot(self.X.T , (Y_hat - self.Y))\n",
    "\n",
    "        db = (1/self.n) * np.sum(Y_hat - self.Y)\n",
    "\n",
    "        #update the weights \n",
    "        self.w = self.w - self.learning_rate * dw\n",
    "        self.b = self.b - self.learning_rate * db\n",
    "\n",
    "     def predict (self, X):\n",
    "         Y_pred = 1 / (1+np.exp(- (X.dot(self.w) + self.b)))\n",
    "         Y_pred = np.where (Y_pred > 0.5, 1, 0)\n",
    "         return Y_pred               "
   ]
  }
 ],
 "metadata": {
  "kernelspec": {
   "display_name": "Python 3 (ipykernel)",
   "language": "python",
   "name": "python3"
  },
  "language_info": {
   "codemirror_mode": {
    "name": "ipython",
    "version": 3
   },
   "file_extension": ".py",
   "mimetype": "text/x-python",
   "name": "python",
   "nbconvert_exporter": "python",
   "pygments_lexer": "ipython3",
   "version": "3.12.3"
  }
 },
 "nbformat": 4,
 "nbformat_minor": 5
}
