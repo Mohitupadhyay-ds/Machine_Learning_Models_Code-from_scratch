{
 "cells": [
  {
   "cell_type": "code",
   "execution_count": null,
   "id": "13cdfdc0-8a79-4251-b9f8-4164ddf7c47f",
   "metadata": {},
   "outputs": [],
   "source": [
    "import numpy as np"
   ]
  },
  {
   "cell_type": "code",
   "execution_count": null,
   "id": "dc1d3f57-5152-482c-8962-64d74832a2b4",
   "metadata": {},
   "outputs": [],
   "source": [
    "class Linear_Regression():\n",
    "    \n",
    "    # initiating the parameters (learning rate & no. of iterations)\n",
    "    def __init__(self, learning_rate, no_of_iterations):\n",
    "        \n",
    "        self.learning_rate = learning_rate\n",
    "        self.no_of_iterations = no_of_iterations\n",
    "    \n",
    "    def fit(self, X, Y):\n",
    "        \n",
    "        #no. of training examples and no. of features\n",
    "        self.m, self.n = X.shape \n",
    "\n",
    "        #initiating the weight and bias\n",
    "        self.w = np.zeros(self.n) \n",
    "        self.b = 0 \n",
    "        self.X = X\n",
    "        SElF.Y = Y\n",
    "        \n",
    "        #Implementing Gradient Descent\n",
    "        for i in range(self.no_of_iterations):\n",
    "            self.update_weights()\n",
    "\n",
    "    def update_weights(self):\n",
    "        \n",
    "        Y_prediction = self.predict(self.X)\n",
    "        \n",
    "        #calculate gradients               \n",
    "        dw = - (2 * (self.X.T).dot(self.Y - Y_prediction)) / self.m\n",
    "\n",
    "        db = -2 * np.sum(self.Y - Y_prediction) / self.m\n",
    "\n",
    "        #update the weights \n",
    "        self.w = self.w - self.learning_rate * dw\n",
    "        self.b = self.b - self.learning_rate * db\n",
    "\n",
    "     def predict (self, X):\n",
    "         return X.dot(self.w) + self.b           "
   ]
  }
 ],
 "metadata": {
  "kernelspec": {
   "display_name": "Python 3 (ipykernel)",
   "language": "python",
   "name": "python3"
  },
  "language_info": {
   "codemirror_mode": {
    "name": "ipython",
    "version": 3
   },
   "file_extension": ".py",
   "mimetype": "text/x-python",
   "name": "python",
   "nbconvert_exporter": "python",
   "pygments_lexer": "ipython3",
   "version": "3.12.3"
  }
 },
 "nbformat": 4,
 "nbformat_minor": 5
}
